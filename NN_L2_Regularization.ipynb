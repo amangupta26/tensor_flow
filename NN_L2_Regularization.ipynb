{
 "cells": [
  {
   "cell_type": "code",
   "execution_count": 1,
   "metadata": {
    "collapsed": true
   },
   "outputs": [],
   "source": [
    "# This model predicts alphabed(A-J) given the image using Neural Network with introduced non linearities using RELU\n",
    "\n",
    "# Import Dependencies\n",
    "from __future__ import print_function\n",
    "import numpy as np\n",
    "import tensorflow as tf\n",
    "from six.moves import cPickle as pickle"
   ]
  },
  {
   "cell_type": "code",
   "execution_count": 2,
   "metadata": {
    "collapsed": false
   },
   "outputs": [
    {
     "name": "stdout",
     "output_type": "stream",
     "text": [
      "Training set (200000, 28, 28) (200000,)\n",
      "Validation set (10000, 28, 28) (10000,)\n",
      "Test set (10000, 28, 28) (10000,)\n"
     ]
    }
   ],
   "source": [
    "#Pre processed pickle file\n",
    "pickle_file = 'notMNIST.pickle'\n",
    "\n",
    "with open(pickle_file, 'rb') as f:\n",
    "    # Loading pickle file to memory which is a dictionary containing training data and labels\n",
    "    save = pickle.load(f)\n",
    "    train_dataset = save['train_dataset']\n",
    "    train_labels = save['train_labels']\n",
    "    valid_dataset = save['valid_dataset']\n",
    "    valid_labels = save['valid_labels']\n",
    "    test_dataset = save['test_dataset']\n",
    "    test_labels = save['test_labels']\n",
    "    del save  # free up memory\n",
    "    print('Training set', train_dataset.shape, train_labels.shape)\n",
    "    print('Validation set', valid_dataset.shape, valid_labels.shape)\n",
    "    print('Test set', test_dataset.shape, test_labels.shape)"
   ]
  },
  {
   "cell_type": "code",
   "execution_count": 3,
   "metadata": {
    "collapsed": false
   },
   "outputs": [
    {
     "name": "stdout",
     "output_type": "stream",
     "text": [
      "Training set (200000, 784) (200000, 10)\n",
      "Validation set (10000, 784) (10000, 10)\n",
      "Test set (10000, 784) (10000, 10)\n"
     ]
    }
   ],
   "source": [
    "# Size of each image 28*28 pixels\n",
    "image_size = 28\n",
    "# Data contains alphabets from A to J(10)\n",
    "num_labels = 10\n",
    "\n",
    "# Flattening all the data to 2-d matrix\n",
    "def reformat(dataset, labels):\n",
    "  dataset = dataset.reshape((-1, image_size * image_size)).astype(np.float32)\n",
    "  # Map 1 to [0.0, 1.0, 0.0 ...], 2 to [0.0, 0.0, 1.0 ...]\n",
    "  labels = (np.arange(num_labels) == labels[:,None]).astype(np.float32)\n",
    "  return dataset, labels\n",
    "train_dataset, train_labels = reformat(train_dataset, train_labels)\n",
    "valid_dataset, valid_labels = reformat(valid_dataset, valid_labels)\n",
    "test_dataset, test_labels = reformat(test_dataset, test_labels)\n",
    "print('Training set', train_dataset.shape, train_labels.shape)\n",
    "print('Validation set', valid_dataset.shape, valid_labels.shape)\n",
    "print('Test set', test_dataset.shape, test_labels.shape)"
   ]
  },
  {
   "cell_type": "code",
   "execution_count": 4,
   "metadata": {
    "collapsed": true
   },
   "outputs": [],
   "source": [
    "# Formula to calculate accuracy of our model\n",
    "def accuracy(predictions, labels):\n",
    "  return (100.0 * np.sum(np.argmax(predictions, 1) == np.argmax(labels, 1))\n",
    "          / predictions.shape[0])"
   ]
  },
  {
   "cell_type": "code",
   "execution_count": 27,
   "metadata": {
    "collapsed": true
   },
   "outputs": [],
   "source": [
    "# Running Stochastic Gradient Descent as optimizer with batch size of 128\n",
    "batch_size = 128\n",
    "# Defining custom graph for our tensorflow model\n",
    "graph = tf.Graph()\n",
    "\n",
    "with graph.as_default():\n",
    "    # Defining training data and labels as placeholder as they will change in each iteration\n",
    "    tf_train_dataset = tf.placeholder(tf.float32,shape=(batch_size, image_size * image_size))\n",
    "    tf_train_labels = tf.placeholder(tf.float32, shape=(batch_size, num_labels))\n",
    "    # Defining validation and test data as constants which are stored in memory\n",
    "    tf_valid_dataset = tf.constant(valid_dataset)\n",
    "    tf_test_dataset = tf.constant(test_dataset)\n",
    "    \n",
    "    # Model is Input->(Logistic Regression)->(1024 RELUs)->(Logistic Regression)->Output\n",
    "    \n",
    "    # Defining weights and biases as variables with respective initialization\n",
    "    \n",
    "    # Weights and biases for the first regressor\n",
    "    weights1 = tf.Variable(tf.truncated_normal([image_size * image_size, 1024]))\n",
    "    biases1 = tf.Variable(tf.zeros([1024]))\n",
    "    \n",
    "    # Weights and biases for the seconf regressor\n",
    "    weights2 = tf.Variable(tf.truncated_normal([1024, num_labels]))\n",
    "    biases2 = tf.Variable(tf.zeros([num_labels]))\n",
    "    \n",
    "    # Output of first regressor, Y = W*X + B\n",
    "    out_lc = tf.matmul(tf_train_dataset, weights1) + biases1\n",
    "    \n",
    "    # Above output is fed into RELUs to introduce non-linearity\n",
    "    out_relu = tf.nn.relu(out_lc)\n",
    "    \n",
    "    # Logits are output of the second regressor\n",
    "    logits = tf.matmul(out_relu, weights2) + biases2\n",
    "    \n",
    "    # Finding Loss by comparing softmax probability distribution of logits and one hot encoding of training labels\n",
    "    # Using L2 Regulizer to prevent model from over-fitting by penalizing weights\n",
    "    loss = tf.reduce_mean(tf.nn.softmax_cross_entropy_with_logits(labels=tf_train_labels, logits=logits) + 0.001*tf.nn.l2_loss(weights1) + 0.001*tf.nn.l2_loss(weights2)) \n",
    "    \n",
    "    # Gradient Descent Optimizer with step size = 0.05\n",
    "    optimizer = tf.train.GradientDescentOptimizer(0.05).minimize(loss)\n",
    "    \n",
    "    # Calculating predictions for training, validation and testing data\n",
    "    train_prediction = tf.nn.softmax(logits)\n",
    "    valid_prediction =  tf.nn.softmax(tf.matmul(tf.nn.relu(tf.matmul(tf_valid_dataset, weights1) + biases1), weights2) + biases2)\n",
    "    test_prediction =  tf.nn.softmax(tf.matmul(tf.nn.relu(tf.matmul(tf_test_dataset, weights1) + biases1), weights2) + biases2)"
   ]
  },
  {
   "cell_type": "code",
   "execution_count": 32,
   "metadata": {
    "collapsed": false
   },
   "outputs": [
    {
     "name": "stdout",
     "output_type": "stream",
     "text": [
      "Minibatch loss at step 0: 506.587830\n",
      "Minibatch accuracy: 10.9%\n",
      "Validation accuracy: 34.8%\n",
      "Minibatch loss at step 500: 8.665834\n",
      "Minibatch accuracy: 77.3%\n",
      "Validation accuracy: 80.5%\n",
      "Minibatch loss at step 1000: 17.562141\n",
      "Minibatch accuracy: 75.8%\n",
      "Validation accuracy: 79.6%\n",
      "Minibatch loss at step 1500: 14.988734\n",
      "Minibatch accuracy: 68.0%\n",
      "Validation accuracy: 79.8%\n",
      "Minibatch loss at step 2000: 16.914795\n",
      "Minibatch accuracy: 72.7%\n",
      "Validation accuracy: 81.9%\n",
      "Minibatch loss at step 2500: 3.931273\n",
      "Minibatch accuracy: 75.0%\n",
      "Validation accuracy: 82.0%\n",
      "Minibatch loss at step 3000: 13.519794\n",
      "Minibatch accuracy: 77.3%\n",
      "Validation accuracy: 79.2%\n",
      "Minibatch loss at step 3500: 5.476126\n",
      "Minibatch accuracy: 78.1%\n",
      "Validation accuracy: 79.5%\n",
      "Minibatch loss at step 4000: 7.192588\n",
      "Minibatch accuracy: 73.4%\n",
      "Validation accuracy: 81.1%\n",
      "Minibatch loss at step 4500: 4.782463\n",
      "Minibatch accuracy: 70.3%\n",
      "Validation accuracy: 81.0%\n",
      "Minibatch loss at step 5000: 8.426310\n",
      "Minibatch accuracy: 73.4%\n",
      "Validation accuracy: 81.2%\n",
      "Minibatch loss at step 5500: 2.958935\n",
      "Minibatch accuracy: 77.3%\n",
      "Validation accuracy: 81.7%\n",
      "Minibatch loss at step 6000: 1.471066\n",
      "Minibatch accuracy: 78.9%\n",
      "Validation accuracy: 81.3%\n",
      "Test accuracy: 87.5%\n"
     ]
    }
   ],
   "source": [
    "# Iterating for 3000 times on the above model\n",
    "num_steps = 3000\n",
    "\n",
    "with tf.Session(graph=graph) as session:\n",
    "    tf.global_variables_initializer().run()\n",
    "    for step in range(num_steps):\n",
    "        offset = (step * batch_size) % (train_labels.shape[0] - batch_size)\n",
    "        batch_data = train_dataset[offset:(offset + batch_size), :]\n",
    "        batch_labels = train_labels[offset:(offset + batch_size), :]\n",
    "        feed_dict = {tf_train_dataset : batch_data, tf_train_labels : batch_labels, keep_prob: 0.5}\n",
    "        _, l, predictions = session.run([optimizer, loss, train_prediction], feed_dict=feed_dict)\n",
    "        if (step % 500 == 0):\n",
    "            print(\"Minibatch loss at step %d: %f\" % (step, l))\n",
    "            print(\"Minibatch accuracy: %.1f%%\" % accuracy(predictions, batch_labels))\n",
    "            print(\"Validation accuracy: %.1f%%\" % accuracy(valid_prediction.eval({keep_prob: 1.0}), valid_labels))\n",
    "    print(\"Test accuracy: %.1f%%\" % accuracy(test_prediction.eval({keep_prob: 1.0}), test_labels))"
   ]
  }
 ],
 "metadata": {
  "kernelspec": {
   "display_name": "Python 2",
   "language": "python",
   "name": "python2"
  },
  "language_info": {
   "codemirror_mode": {
    "name": "ipython",
    "version": 2
   },
   "file_extension": ".py",
   "mimetype": "text/x-python",
   "name": "python",
   "nbconvert_exporter": "python",
   "pygments_lexer": "ipython2",
   "version": "2.7.10"
  }
 },
 "nbformat": 4,
 "nbformat_minor": 2
}
